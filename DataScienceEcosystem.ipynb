{
 "cells": [
  {
   "cell_type": "markdown",
   "id": "f46f991f-8e92-46f4-ac72-4b6ff8616e2f",
   "metadata": {},
   "source": [
    "\n",
    "# Data Science Tools and Ecosystems\n",
    "## Author Carlos A."
   ]
  },
  {
   "cell_type": "markdown",
   "id": "65abaf50-2fd9-4c22-9684-88f72efcb577",
   "metadata": {},
   "source": [
    "In this notebook, Data Science Tools and Ecosystem are summarized"
   ]
  },
  {
   "cell_type": "markdown",
   "id": "e290898e-1e49-4fa4-a851-041bad78fd37",
   "metadata": {},
   "source": [
    "Some of the popular languages that Data Scientist use are:\n",
    "1. Python\n",
    "2. SQL\n",
    "3. R"
   ]
  },
  {
   "cell_type": "markdown",
   "id": "a8245a29-f45b-4452-9bb0-881a7e29b462",
   "metadata": {},
   "source": [
    "**Objectives:**\n",
    "\n",
    "- List popular languages for Data Science\n",
    "- Describe the role of jupyter Notebooks\n",
    "- Explain how python is used in data analysis\n",
    "- Understand basic markdown formatting\n",
    "- Identify key tools used in Data Science\n",
    "\n"
   ]
  },
  {
   "cell_type": "markdown",
   "id": "be73daee-6989-4914-bfe0-45ebc9431030",
   "metadata": {},
   "source": [
    "Some of the commonly used libraries used by Data Scientist include:\n",
    "1. Pandas\n",
    "2. NumPy\n",
    "3. SciPy\n",
    "4. Matplotlib\n",
    "5. TensorFlow\n",
    "6. Scikit-learn"
   ]
  },
  {
   "cell_type": "markdown",
   "id": "5ea90990-2fd3-4895-805a-9880e3f7279c",
   "metadata": {},
   "source": [
    "| Data Science Tools |  |  |\n",
    "| --- | --- | --- |\n",
    "| Git | Apache | GitLab |"
   ]
  },
  {
   "cell_type": "markdown",
   "id": "b3f28ae2-48e1-4651-a836-e35795acff68",
   "metadata": {},
   "source": [
    "### Below are a few examples of evaluating arithmetic expressions in Python"
   ]
  },
  {
   "cell_type": "code",
   "execution_count": 3,
   "id": "d1469ecc-15d8-48f8-9656-a4d65af06fb3",
   "metadata": {},
   "outputs": [
    {
     "data": {
      "text/plain": [
       "17"
      ]
     },
     "execution_count": 3,
     "metadata": {},
     "output_type": "execute_result"
    }
   ],
   "source": [
    "(3*4)+5\n",
    "# This a simple arithmetic expression to multiply then add integers"
   ]
  },
  {
   "cell_type": "code",
   "execution_count": 4,
   "id": "1ac122c7-ac5e-4bb8-98da-97e401a2a391",
   "metadata": {},
   "outputs": [
    {
     "name": "stdout",
     "output_type": "stream",
     "text": [
      "3.3333333333333335\n"
     ]
    }
   ],
   "source": [
    "minutes = 200\n",
    "hours = minutes / 60\n",
    "print(hours)\n",
    "# This will convert 200 minutes to hours by dividing by 60"
   ]
  },
  {
   "cell_type": "code",
   "execution_count": null,
   "id": "c550183d-6955-4784-898e-94652da23cde",
   "metadata": {},
   "outputs": [],
   "source": []
  }
 ],
 "metadata": {
  "kernelspec": {
   "display_name": "Python [conda env:base] *",
   "language": "python",
   "name": "conda-base-py"
  },
  "language_info": {
   "codemirror_mode": {
    "name": "ipython",
    "version": 3
   },
   "file_extension": ".py",
   "mimetype": "text/x-python",
   "name": "python",
   "nbconvert_exporter": "python",
   "pygments_lexer": "ipython3",
   "version": "3.12.7"
  },
  "panel-cell-order": [
   "8fe9662f-d2cb-4873-8cd3-ef007ad75b21",
   "e0a05d74-c714-481e-9224-0a525f76a720"
  ]
 },
 "nbformat": 4,
 "nbformat_minor": 5
}
